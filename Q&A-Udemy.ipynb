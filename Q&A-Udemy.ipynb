{
 "cells": [
  {
   "cell_type": "markdown",
   "metadata": {},
   "source": [
    "Question1"
   ]
  },
  {
   "cell_type": "code",
   "execution_count": 17,
   "metadata": {
    "collapsed": false
   },
   "outputs": [
    {
     "name": "stdout",
     "output_type": "stream",
     "text": [
      "1 2 3 4 5 6 7 8 9 10 \n",
      "11 12 13 14 15 16 17 18 19 20 \n",
      "21 22 23 24 25 26 27 28 29 30 \n",
      "31 32 33 34 35 36 37 38 39 40 \n",
      "41 42 43 44 45 46 47 48 49 50 \n",
      "51 52 53 54 55 56 57 58 59 60 \n",
      "61 62 63 64 65 66 67 68 69 70 \n",
      "71 72 73 74 75 76 77 78 79 80 \n",
      "81 82 83 84 85 86 87 88 89 90 \n",
      "91 92 93 94 95 96 97 98 99 100 \n"
     ]
    }
   ],
   "source": [
    "# 1 Program to print for loop in numbers 1 to 100 in 10 rows\n",
    "\n",
    "for i in range(10):\n",
    "    for j in range(1,11):\n",
    "         print(i*10+j, end=\" \")\n",
    "    print()"
   ]
  },
  {
   "cell_type": "code",
   "execution_count": 47,
   "metadata": {
    "collapsed": false
   },
   "outputs": [
    {
     "name": "stdout",
     "output_type": "stream",
     "text": [
      "  2    4    6    8   10   12   14   16   18   20  \n",
      " 22   24   26   28   30   32   34   36   38   40  \n",
      " 42   44   46   48   50   52   54   56   58   60  \n",
      " 62   64   66   68   70   72   74   76   78   80  \n",
      " 82   84   86   88   90   92   94   96   98  100  \n",
      "102  104  106  108  110  112  114  116  118  120  \n",
      "122  124  126  128  130  132  134  136  138  140  \n",
      "142  144  146  148  150  152  154  156  158  160  \n",
      "162  164  166  168  170  172  174  176  178  180  \n",
      "182  184  186  188  190  192  194  196  198  200  \n"
     ]
    }
   ],
   "source": [
    "# 2 program to print first 100 even numbers in 10 rows and format perfectly\n",
    "i = j = x =0\n",
    "for i in range(10):\n",
    "    for j in range(1,21):\n",
    "        x = i*20+j\n",
    "        if (x % 2 == 0):\n",
    "            print('{:3d} '.format(x), end=\" \")\n",
    "    print()"
   ]
  },
  {
   "cell_type": "code",
   "execution_count": 56,
   "metadata": {
    "collapsed": false
   },
   "outputs": [
    {
     "name": "stdout",
     "output_type": "stream",
     "text": [
      "  2   4   6   8  10  12  14  16  18  20 \n",
      " 22  24  26  28  30  32  34  36  38  40 \n",
      " 42  44  46  48  50  52  54  56  58  60 \n",
      " 62  64  66  68  70  72  74  76  78  80 \n",
      " 82  84  86  88  90  92  94  96  98 100 \n",
      "102 104 106 108 110 112 114 116 118 120 \n",
      "122 124 126 128 130 132 134 136 138 140 \n",
      "142 144 146 148 150 152 154 156 158 160 \n",
      "162 164 166 168 170 172 174 176 178 180 \n",
      "182 184 186 188 190 192 194 196 198 200 \n"
     ]
    }
   ],
   "source": [
    "for i in range(1,201):\n",
    "    if (i % 2 == 0):\n",
    "        print('{:3d}'.format(i), end = \" \")\n",
    "    if i % 20 == 0:\n",
    "        print()\n"
   ]
  },
  {
   "cell_type": "code",
   "execution_count": 1,
   "metadata": {
    "collapsed": false
   },
   "outputs": [],
   "source": [
    "# 3 Program to return true if prime number else return false\n",
    "\n",
    "def isprime(num):\n",
    "    i = 0\n",
    "    if num <= 0:\n",
    "        print(\"Wrong Number inputted\")\n",
    "        return False\n",
    "    if num == 1:\n",
    "        return(\"1 is a prime\")\n",
    "    for i in range(2,num+1):\n",
    "        if i == num:\n",
    "            return(True)\n",
    "        if (num % i == 0):\n",
    "            return(False)\n",
    " "
   ]
  },
  {
   "cell_type": "code",
   "execution_count": 132,
   "metadata": {
    "collapsed": false
   },
   "outputs": [
    {
     "data": {
      "text/plain": [
       "(True, False, False, True)"
      ]
     },
     "execution_count": 132,
     "metadata": {},
     "output_type": "execute_result"
    }
   ],
   "source": [
    "isprime(73), isprime(99), isprime(64), isprime(59)"
   ]
  },
  {
   "cell_type": "code",
   "execution_count": 133,
   "metadata": {
    "collapsed": false
   },
   "outputs": [
    {
     "data": {
      "text/plain": [
       "'1 is a prime'"
      ]
     },
     "execution_count": 133,
     "metadata": {},
     "output_type": "execute_result"
    }
   ],
   "source": [
    "isprime(1)"
   ]
  },
  {
   "cell_type": "code",
   "execution_count": 134,
   "metadata": {
    "collapsed": false
   },
   "outputs": [
    {
     "name": "stdout",
     "output_type": "stream",
     "text": [
      "Wrong Number inputted\n"
     ]
    },
    {
     "data": {
      "text/plain": [
       "False"
      ]
     },
     "execution_count": 134,
     "metadata": {},
     "output_type": "execute_result"
    }
   ],
   "source": [
    "isprime(-2)"
   ]
  },
  {
   "cell_type": "code",
   "execution_count": 5,
   "metadata": {
    "collapsed": false
   },
   "outputs": [
    {
     "name": "stdout",
     "output_type": "stream",
     "text": [
      "  2   3   5   7  11  13  17  19  23  29 \n",
      " 31  37  41  43  47  53  59  61  67  71 \n",
      " 73  79  83  89  97 101 103 107 109 113 \n",
      "127 131 137 139 149 151 157 163 167 173 \n",
      "179 181 191 193 197 199 211 223 227 229 \n",
      "233 239 241 251 257 263 269 271 277 281 \n",
      "283 293 307 311 313 317 331 337 347 349 \n",
      "353 359 367 373 379 383 389 397 401 409 \n",
      "419 421 431 433 439 443 449 457 461 463 \n",
      "467 479 487 491 499 503 509 521 523 541 \n",
      "547 557 563 569 571 577 587 593 599 601 \n",
      "607 613 617 619 631 641 643 647 653 659 \n",
      "661 673 677 683 691 701 709 719 727 733 \n",
      "739 743 751 757 761 769 773 787 797 809 \n",
      "811 821 823 827 829 839 853 857 859 863 \n",
      "877 881 883 887 907 911 919 929 937 941 \n",
      "947 953 967 971 977 983 991 997 \n",
      "\n",
      "There are  168  prime numbers between 1 & 1000\n"
     ]
    }
   ],
   "source": [
    "# 4 program to print prime numbers between 1 and 1000\n",
    "#row = 1\n",
    "primecnt = 0\n",
    "for i in range(2,1000):\n",
    "    if isprime(i):\n",
    "        print('{:>3d}'.format(i), end=\" \")\n",
    "        primecnt +=1\n",
    "        if (primecnt %10 == 0):\n",
    "            print()\n",
    "    else:\n",
    "        continue\n",
    "print(\"\\n\\nThere are \",primecnt, \" prime numbers between 1 & 1000\")\n",
    "        \n",
    "        "
   ]
  },
  {
   "cell_type": "code",
   "execution_count": 155,
   "metadata": {
    "collapsed": true
   },
   "outputs": [],
   "source": [
    "#5 Program to Convert deg C to deg F\n",
    "def CtoF(num):\n",
    "    c = num\n",
    "    f = 0\n",
    "    #C = 5/9(F-32)\n",
    "    f =(9/5) * c + 32\n",
    "    print(\"The temperature {:6.2f}C is = {:6.2f}F \".format(c,f) )\n",
    "    return"
   ]
  },
  {
   "cell_type": "code",
   "execution_count": 156,
   "metadata": {
    "collapsed": false
   },
   "outputs": [
    {
     "name": "stdout",
     "output_type": "stream",
     "text": [
      "The temperature  32.00C is =  89.60F \n"
     ]
    }
   ],
   "source": [
    "CtoF(32)"
   ]
  },
  {
   "cell_type": "code",
   "execution_count": 157,
   "metadata": {
    "collapsed": false
   },
   "outputs": [
    {
     "name": "stdout",
     "output_type": "stream",
     "text": [
      "The temperature   0.00C is =  32.00F \n"
     ]
    }
   ],
   "source": [
    "CtoF(0)"
   ]
  },
  {
   "cell_type": "code",
   "execution_count": 158,
   "metadata": {
    "collapsed": false
   },
   "outputs": [
    {
     "name": "stdout",
     "output_type": "stream",
     "text": [
      "The temperature  25.00C is =  77.00F \n"
     ]
    }
   ],
   "source": [
    "CtoF(25)"
   ]
  },
  {
   "cell_type": "code",
   "execution_count": 161,
   "metadata": {
    "collapsed": false
   },
   "outputs": [
    {
     "name": "stdout",
     "output_type": "stream",
     "text": [
      "The temperature -17.00C is =   1.40F \n"
     ]
    }
   ],
   "source": [
    "CtoF(-17)"
   ]
  },
  {
   "cell_type": "code",
   "execution_count": 162,
   "metadata": {
    "collapsed": false
   },
   "outputs": [
    {
     "name": "stdout",
     "output_type": "stream",
     "text": [
      "The temperature -17.78C is =  -0.00F \n"
     ]
    }
   ],
   "source": [
    "CtoF(-17.7777778)"
   ]
  },
  {
   "cell_type": "code",
   "execution_count": 178,
   "metadata": {
    "collapsed": false
   },
   "outputs": [],
   "source": [
    "# 6 Function to convert F to C\n",
    "def FtoC(f):\n",
    "    return(5/9*(f - 32))"
   ]
  },
  {
   "cell_type": "code",
   "execution_count": 179,
   "metadata": {
    "collapsed": false
   },
   "outputs": [
    {
     "data": {
      "text/plain": [
       "0.0"
      ]
     },
     "execution_count": 179,
     "metadata": {},
     "output_type": "execute_result"
    }
   ],
   "source": [
    "FtoC(32)"
   ]
  },
  {
   "cell_type": "code",
   "execution_count": 180,
   "metadata": {
    "collapsed": false
   },
   "outputs": [
    {
     "data": {
      "text/plain": [
       "-17.77777777777778"
      ]
     },
     "execution_count": 180,
     "metadata": {},
     "output_type": "execute_result"
    }
   ],
   "source": [
    "FtoC(0)"
   ]
  },
  {
   "cell_type": "code",
   "execution_count": 181,
   "metadata": {
    "collapsed": false
   },
   "outputs": [
    {
     "data": {
      "text/plain": [
       "14.444444444444445"
      ]
     },
     "execution_count": 181,
     "metadata": {},
     "output_type": "execute_result"
    }
   ],
   "source": [
    "FtoC(58)"
   ]
  },
  {
   "cell_type": "code",
   "execution_count": 182,
   "metadata": {
    "collapsed": false
   },
   "outputs": [
    {
     "data": {
      "text/plain": [
       "21.11111111111111"
      ]
     },
     "execution_count": 182,
     "metadata": {},
     "output_type": "execute_result"
    }
   ],
   "source": [
    "FtoC(70)"
   ]
  },
  {
   "cell_type": "code",
   "execution_count": 183,
   "metadata": {
    "collapsed": false
   },
   "outputs": [
    {
     "data": {
      "text/plain": [
       "20.0"
      ]
     },
     "execution_count": 183,
     "metadata": {},
     "output_type": "execute_result"
    }
   ],
   "source": [
    "FtoC(68)"
   ]
  },
  {
   "cell_type": "code",
   "execution_count": 193,
   "metadata": {
    "collapsed": false
   },
   "outputs": [
    {
     "name": "stdout",
     "output_type": "stream",
     "text": [
      "10 Kilometers is equal to 6.21371 Miles.\n",
      "20 Kilometers is equal to 12.42742 Miles.\n",
      "30 Kilometers is equal to 18.64113 Miles.\n",
      "40 Kilometers is equal to 24.85484 Miles.\n",
      "50 Kilometers is equal to 31.068550000000002 Miles.\n"
     ]
    }
   ],
   "source": [
    "# 7 Convert a list of kilometers to miles\n",
    "#Conversion: 1 Km = 0.621371 of a Mile. \n",
    "mile = 0\n",
    "kmslist = [10,20,30,40,50]\n",
    "for i in kmslist:\n",
    "    mile = i * .621371\n",
    "    print(\"{} Kilometers is equal to {} Miles.\".format(i,mile))\n",
    "    "
   ]
  },
  {
   "cell_type": "code",
   "execution_count": 196,
   "metadata": {
    "collapsed": false
   },
   "outputs": [],
   "source": [
    " # 8 Factorial function without recursion\n",
    "\n",
    "def fact(num):\n",
    "    prdt = 1\n",
    "    if num == 1:\n",
    "        return 1\n",
    "    elif num<=0:\n",
    "        return 0\n",
    "    else:\n",
    "        for i in range(1,num+1):\n",
    "            prdt = prdt * i\n",
    "        return prdt"
   ]
  },
  {
   "cell_type": "code",
   "execution_count": 200,
   "metadata": {
    "collapsed": false
   },
   "outputs": [
    {
     "data": {
      "text/plain": [
       "(6, 5040, 1, 0, 24, 120, 0)"
      ]
     },
     "execution_count": 200,
     "metadata": {},
     "output_type": "execute_result"
    }
   ],
   "source": [
    "fact(3), fact(7), fact(1),fact(0), fact(4), fact(5),fact(-3)"
   ]
  },
  {
   "cell_type": "code",
   "execution_count": 254,
   "metadata": {
    "collapsed": false
   },
   "outputs": [],
   "source": [
    "# 9 Factorial with recursion\n",
    "def factR(num):\n",
    "    i =  num\n",
    "    #prdt = 1\n",
    "    if num<0:\n",
    "        return (null)\n",
    "    while (num>0):\n",
    "        if (num == 1):\n",
    "            return (1)\n",
    "        else:\n",
    "            prdt = num * factR(num -1)\n",
    "            num = num - 1\n",
    "        return (prdt)\n",
    "        "
   ]
  },
  {
   "cell_type": "code",
   "execution_count": 255,
   "metadata": {
    "collapsed": false
   },
   "outputs": [
    {
     "data": {
      "text/plain": [
       "24"
      ]
     },
     "execution_count": 255,
     "metadata": {},
     "output_type": "execute_result"
    }
   ],
   "source": [
    "factR(4)"
   ]
  },
  {
   "cell_type": "code",
   "execution_count": 256,
   "metadata": {
    "collapsed": false
   },
   "outputs": [],
   "source": [
    "factR(0)"
   ]
  },
  {
   "cell_type": "code",
   "execution_count": 257,
   "metadata": {
    "collapsed": false
   },
   "outputs": [
    {
     "data": {
      "text/plain": [
       "720"
      ]
     },
     "execution_count": 257,
     "metadata": {},
     "output_type": "execute_result"
    }
   ],
   "source": [
    "factR(6)"
   ]
  },
  {
   "cell_type": "code",
   "execution_count": 258,
   "metadata": {
    "collapsed": false
   },
   "outputs": [
    {
     "data": {
      "text/plain": [
       "1"
      ]
     },
     "execution_count": 258,
     "metadata": {},
     "output_type": "execute_result"
    }
   ],
   "source": [
    "factR(1)"
   ]
  },
  {
   "cell_type": "code",
   "execution_count": 112,
   "metadata": {
    "collapsed": false
   },
   "outputs": [],
   "source": [
    "# 10 a function toBinary(n) to convert a decimal number into binary number NOT using recurrsion.\n",
    "def toBinary(quot):\n",
    "    if (quot<=0):\n",
    "        return (0)\n",
    "    elif quot==1:\n",
    "        return (1)\n",
    "    stk = []\n",
    "    while (quot >= 2):\n",
    "        try:\n",
    "            rem = quot%2\n",
    "            quot = quot//2\n",
    "            stk.append(rem)\n",
    "            if quot<2:\n",
    "                stk.append(quot)\n",
    "                break\n",
    "        except:\n",
    "            print(\"Something Wrong\")\n",
    "    stklen = len(stk)\n",
    "    stk.reverse()\n",
    "    tmpstr = \"\"\n",
    "    for i in range (stklen):\n",
    "         tmpstr = tmpstr + str(stk[i])\n",
    "\n",
    "    return (tmpstr)    "
   ]
  },
  {
   "cell_type": "code",
   "execution_count": 98,
   "metadata": {
    "collapsed": false
   },
   "outputs": [
    {
     "name": "stdout",
     "output_type": "stream",
     "text": [
      "i =  0 c[i] =  1\n",
      "i =  1 c[i] =  0\n",
      "6\n"
     ]
    }
   ],
   "source": [
    "toDec(10)"
   ]
  },
  {
   "cell_type": "code",
   "execution_count": 114,
   "metadata": {
    "collapsed": false
   },
   "outputs": [
    {
     "data": {
      "text/plain": [
       "'11101001'"
      ]
     },
     "execution_count": 114,
     "metadata": {},
     "output_type": "execute_result"
    }
   ],
   "source": [
    "toBinary(233)"
   ]
  },
  {
   "cell_type": "code",
   "execution_count": 113,
   "metadata": {
    "collapsed": false
   },
   "outputs": [
    {
     "data": {
      "text/plain": [
       "'1100100'"
      ]
     },
     "execution_count": 113,
     "metadata": {},
     "output_type": "execute_result"
    }
   ],
   "source": [
    "toBinary(100)"
   ]
  },
  {
   "cell_type": "code",
   "execution_count": 115,
   "metadata": {
    "collapsed": false
   },
   "outputs": [
    {
     "data": {
      "text/plain": [
       "'11'"
      ]
     },
     "execution_count": 115,
     "metadata": {},
     "output_type": "execute_result"
    }
   ],
   "source": [
    "toBinary(3)"
   ]
  },
  {
   "cell_type": "code",
   "execution_count": 116,
   "metadata": {
    "collapsed": false
   },
   "outputs": [
    {
     "name": "stdout",
     "output_type": "stream",
     "text": [
      " Decimal =  0  Binary =  0\n",
      " Decimal =  1  Binary =  1\n",
      " Decimal =  2  Binary =  10\n",
      " Decimal =  3  Binary =  11\n",
      " Decimal =  4  Binary =  100\n",
      " Decimal =  5  Binary =  101\n",
      " Decimal =  6  Binary =  110\n",
      " Decimal =  7  Binary =  111\n",
      " Decimal =  8  Binary =  1000\n",
      " Decimal =  9  Binary =  1001\n"
     ]
    }
   ],
   "source": [
    "for i in range(10):\n",
    "    print (\" Decimal = \", i, \" Binary = \" ,toBinary(i))"
   ]
  },
  {
   "cell_type": "code",
   "execution_count": 44,
   "metadata": {
    "collapsed": false
   },
   "outputs": [
    {
     "data": {
      "text/plain": [
       "[10, 20, 30]"
      ]
     },
     "execution_count": 44,
     "metadata": {},
     "output_type": "execute_result"
    }
   ],
   "source": [
    "stk.reverse()\n",
    "stk"
   ]
  },
  {
   "cell_type": "code",
   "execution_count": 45,
   "metadata": {
    "collapsed": false
   },
   "outputs": [
    {
     "data": {
      "text/plain": [
       "[30, 20, 10]"
      ]
     },
     "execution_count": 45,
     "metadata": {},
     "output_type": "execute_result"
    }
   ],
   "source": [
    "stk[::-1]"
   ]
  },
  {
   "cell_type": "code",
   "execution_count": 37,
   "metadata": {
    "collapsed": false
   },
   "outputs": [
    {
     "data": {
      "text/plain": [
       "[30, 20, 10]"
      ]
     },
     "execution_count": 37,
     "metadata": {},
     "output_type": "execute_result"
    }
   ],
   "source": [
    "stk"
   ]
  },
  {
   "cell_type": "code",
   "execution_count": 110,
   "metadata": {
    "collapsed": true
   },
   "outputs": [],
   "source": [
    "# 10 a function toBinary(n) to convert a decimal number into binary number using recurrsion.\n",
    "\n",
    "def ToBinR(n):\n",
    "    if n>1:\n",
    "        ToBinR(n//2)\n",
    "    print(n%2,end=\"\")\n",
    " \n",
    "    \n",
    "    \n",
    "        "
   ]
  },
  {
   "cell_type": "code",
   "execution_count": 111,
   "metadata": {
    "collapsed": false
   },
   "outputs": [
    {
     "name": "stdout",
     "output_type": "stream",
     "text": [
      "11"
     ]
    }
   ],
   "source": [
    "ToBinR(3)"
   ]
  },
  {
   "cell_type": "code",
   "execution_count": 93,
   "metadata": {
    "collapsed": false
   },
   "outputs": [
    {
     "data": {
      "text/plain": [
       "[1, 1, 0, 1, 1, 0, 1, 0, 0, 1, 0, 1, 1, 1]"
      ]
     },
     "execution_count": 93,
     "metadata": {},
     "output_type": "execute_result"
    }
   ],
   "source": [
    "stk"
   ]
  },
  {
   "cell_type": "code",
   "execution_count": 94,
   "metadata": {
    "collapsed": true
   },
   "outputs": [],
   "source": [
    "stk=[]"
   ]
  },
  {
   "cell_type": "code",
   "execution_count": 1,
   "metadata": {
    "collapsed": false
   },
   "outputs": [],
   "source": [
    "def toBinary(n):\n",
    "    if n > 1:\n",
    "        toBinary(n//2)\n",
    "    print(n % 2,end = '')"
   ]
  },
  {
   "cell_type": "code",
   "execution_count": 2,
   "metadata": {
    "collapsed": false
   },
   "outputs": [
    {
     "name": "stdout",
     "output_type": "stream",
     "text": [
      "100"
     ]
    }
   ],
   "source": [
    "toBinary(4)"
   ]
  },
  {
   "cell_type": "code",
   "execution_count": 8,
   "metadata": {
    "collapsed": false
   },
   "outputs": [
    {
     "name": "stdout",
     "output_type": "stream",
     "text": [
      "1010"
     ]
    }
   ],
   "source": [
    "toBinary(10)"
   ]
  },
  {
   "cell_type": "code",
   "execution_count": 9,
   "metadata": {
    "collapsed": false
   },
   "outputs": [
    {
     "name": "stdout",
     "output_type": "stream",
     "text": [
      "i =  0 c[i] =  1\n",
      "i =  1 c[i] =  0\n",
      "6\n"
     ]
    }
   ],
   "source": [
    "toDec(10)"
   ]
  },
  {
   "cell_type": "code",
   "execution_count": 117,
   "metadata": {
    "collapsed": false
   },
   "outputs": [],
   "source": [
    "# Program to convert Binary to Decimal\n",
    "\n",
    "def BinarytoDecimal(num):\n",
    "    length = len(str(num))\n",
    "    numstr = str(num)\n",
    "    numstr = numstr[::-1]\n",
    "    y = 0\n",
    "    for i in range(length):\n",
    "        if (int(numstr[i]) != 0):\n",
    "            y += 2 ** i \n",
    "    return (y)"
   ]
  },
  {
   "cell_type": "code",
   "execution_count": 91,
   "metadata": {
    "collapsed": false
   },
   "outputs": [
    {
     "data": {
      "text/plain": [
       "(8, 0, 5, 7, 93)"
      ]
     },
     "execution_count": 91,
     "metadata": {},
     "output_type": "execute_result"
    }
   ],
   "source": [
    "BinarytoDecimal(1000), BinarytoDecimal(0),BinarytoDecimal(101),BinarytoDecimal(111),BinarytoDecimal(1011101)"
   ]
  },
  {
   "cell_type": "code",
   "execution_count": 126,
   "metadata": {
    "collapsed": false
   },
   "outputs": [
    {
     "data": {
      "text/plain": [
       "165"
      ]
     },
     "execution_count": 126,
     "metadata": {},
     "output_type": "execute_result"
    }
   ],
   "source": [
    "BinarytoDecimal(10100101)"
   ]
  },
  {
   "cell_type": "code",
   "execution_count": 125,
   "metadata": {
    "collapsed": false
   },
   "outputs": [
    {
     "data": {
      "text/plain": [
       "100"
      ]
     },
     "execution_count": 125,
     "metadata": {},
     "output_type": "execute_result"
    }
   ],
   "source": [
    "BinarytoDecimal(1100100)"
   ]
  },
  {
   "cell_type": "code",
   "execution_count": 128,
   "metadata": {
    "collapsed": false
   },
   "outputs": [
    {
     "name": "stdout",
     "output_type": "stream",
     "text": [
      "Binary =  1010  Decimal =  10\n",
      "Binary =  10100  Decimal =  20\n",
      "Binary =  11110  Decimal =  30\n",
      "Binary =  101000  Decimal =  40\n",
      "Binary =  110010  Decimal =  50\n",
      "Binary =  111100  Decimal =  60\n",
      "Binary =  1000110  Decimal =  70\n",
      "Binary =  1010000  Decimal =  80\n",
      "Binary =  1011010  Decimal =  90\n"
     ]
    }
   ],
   "source": [
    "for i in range(10,100,10):\n",
    "    print(\"Binary = \", toBinary(i) , \" Decimal = \", i)"
   ]
  },
  {
   "cell_type": "code",
   "execution_count": 133,
   "metadata": {
    "collapsed": false
   },
   "outputs": [
    {
     "name": "stdout",
     "output_type": "stream",
     "text": [
      "10\n",
      "20\n",
      "60\n",
      "90\n"
     ]
    }
   ],
   "source": [
    "for i in [1010,10100,111100,1011010]:\n",
    "    print(BinarytoDecimal(i))"
   ]
  },
  {
   "cell_type": "code",
   "execution_count": 141,
   "metadata": {
    "collapsed": true
   },
   "outputs": [],
   "source": [
    "#11. myMap funtion to duplicate Python map function - input 2 parameters, funtion and the container object\n",
    "\n",
    "def myMap(fun,container):\n",
    "    a = container\n",
    "    newa = []\n",
    "    for i in a:\n",
    "        newa.append(fun(i))\n",
    "    return(newa)\n",
    "    "
   ]
  },
  {
   "cell_type": "code",
   "execution_count": 142,
   "metadata": {
    "collapsed": false
   },
   "outputs": [
    {
     "data": {
      "text/plain": [
       "[3, 4, 5, 6]"
      ]
     },
     "execution_count": 142,
     "metadata": {},
     "output_type": "execute_result"
    }
   ],
   "source": [
    "A = [1,2,3,4]\n",
    "fun = lambda x: x+2\n",
    "myMap(fun,A)"
   ]
  },
  {
   "cell_type": "code",
   "execution_count": 144,
   "metadata": {
    "collapsed": false
   },
   "outputs": [
    {
     "data": {
      "text/plain": [
       "[(1, 1), (2, 4), (3, 9), (4, 16)]"
      ]
     },
     "execution_count": 144,
     "metadata": {},
     "output_type": "execute_result"
    }
   ],
   "source": [
    "fun = lambda x : (x,x**2)\n",
    "myMap(fun,A)"
   ]
  },
  {
   "cell_type": "code",
   "execution_count": 15,
   "metadata": {
    "collapsed": true
   },
   "outputs": [],
   "source": [
    "#12. myReduce function to replicate Python reduce function\n",
    "\n",
    "def myReduce(fun,container):\n",
    "    a = container\n",
    "    reduced = 0\n",
    "    \n",
    "    for i in range(len(a)):\n",
    "        reduced = fun(reduced,a[i]) \n",
    "    return(reduced)\n",
    "        "
   ]
  },
  {
   "cell_type": "code",
   "execution_count": 20,
   "metadata": {
    "collapsed": false
   },
   "outputs": [
    {
     "data": {
      "text/plain": [
       "33"
      ]
     },
     "execution_count": 20,
     "metadata": {},
     "output_type": "execute_result"
    }
   ],
   "source": [
    "A = [1,2,33,22,11,5]\n",
    "myReduce(lambda x,y:x if x>y else y, A)"
   ]
  },
  {
   "cell_type": "code",
   "execution_count": 24,
   "metadata": {
    "collapsed": false
   },
   "outputs": [
    {
     "data": {
      "text/plain": [
       "83"
      ]
     },
     "execution_count": 24,
     "metadata": {},
     "output_type": "execute_result"
    }
   ],
   "source": [
    "A = [10,2,33,22,11,5]\n",
    "myReduce(lambda x,y:x+y,A)"
   ]
  },
  {
   "cell_type": "code",
   "execution_count": 6,
   "metadata": {
    "collapsed": true
   },
   "outputs": [],
   "source": [
    "#13.myFilter function\n",
    "\n",
    "def myFilter(fun,container):\n",
    "    A = container\n",
    "    newA = []\n",
    "    for i in A:\n",
    "        if fun(i):\n",
    "            newA.append(i)\n",
    "    return newA"
   ]
  },
  {
   "cell_type": "code",
   "execution_count": 7,
   "metadata": {
    "collapsed": false
   },
   "outputs": [
    {
     "data": {
      "text/plain": [
       "[10, 2, 22]"
      ]
     },
     "execution_count": 7,
     "metadata": {},
     "output_type": "execute_result"
    }
   ],
   "source": [
    "A = [10,2,33,22,11,5]\n",
    "myFilter(lambda x: x%2==0, A)"
   ]
  },
  {
   "cell_type": "code",
   "execution_count": 11,
   "metadata": {
    "collapsed": false
   },
   "outputs": [
    {
     "data": {
      "text/plain": [
       "[1, 2, 3, 4, 5, 6, 7, 8, 9, 10]"
      ]
     },
     "execution_count": 11,
     "metadata": {},
     "output_type": "execute_result"
    }
   ],
   "source": [
    "#14 List Comprehensions to produce 3 simple lists\n",
    "#(a) [1,2,3,4,5,6,7,8,9,10]\n",
    "\n",
    "a = [x for x in range (1,11)]\n",
    "a"
   ]
  },
  {
   "cell_type": "code",
   "execution_count": 13,
   "metadata": {
    "collapsed": false
   },
   "outputs": [
    {
     "data": {
      "text/plain": [
       "[1, 3, 5, 7, 9, 11, 13, 15, 17, 19]"
      ]
     },
     "execution_count": 13,
     "metadata": {},
     "output_type": "execute_result"
    }
   ],
   "source": [
    "#b  [1,3,5,7,9,11,13,15,17,19]\n",
    "[x for x in range(20) if x%2 !=0 ]"
   ]
  },
  {
   "cell_type": "code",
   "execution_count": 88,
   "metadata": {
    "collapsed": false
   },
   "outputs": [
    {
     "name": "stdout",
     "output_type": "stream",
     "text": [
      "1 6 11 16 21 26 31 36 41 46 "
     ]
    }
   ],
   "source": [
    "#c [1, 6, 11, 16, 21, 26, 31, 36, 41, 46]\n",
    "#[print(a) for i in range(1,20) a = 1, b = a+5 ]\n",
    "a = 1\n",
    "for i in range(10):\n",
    "    print(a, end= ' ')\n",
    "    a = a + 5\n"
   ]
  },
  {
   "cell_type": "code",
   "execution_count": 89,
   "metadata": {
    "collapsed": false
   },
   "outputs": [
    {
     "data": {
      "text/plain": [
       "[1, 6, 11, 16, 21, 26, 31, 36, 41, 46]"
      ]
     },
     "execution_count": 89,
     "metadata": {},
     "output_type": "execute_result"
    }
   ],
   "source": [
    "a = 1\n",
    "[x for x in range(1,50,5) ]"
   ]
  },
  {
   "cell_type": "code",
   "execution_count": 73,
   "metadata": {
    "collapsed": true
   },
   "outputs": [],
   "source": [
    "nonprimes = set(j for i in range(2,8) for j in range(i*2,50,i))\n",
    "#we use set comprehensions here as set has unique values"
   ]
  },
  {
   "cell_type": "code",
   "execution_count": 74,
   "metadata": {
    "collapsed": false
   },
   "outputs": [
    {
     "name": "stdout",
     "output_type": "stream",
     "text": [
      "{4, 6, 8, 9, 10, 12, 14, 15, 16, 18, 20, 21, 22, 24, 25, 26, 27, 28, 30, 32, 33, 34, 35, 36, 38, 39, 40, 42, 44, 45, 46, 48, 49} "
     ]
    },
    {
     "data": {
      "text/plain": [
       "33"
      ]
     },
     "execution_count": 74,
     "metadata": {},
     "output_type": "execute_result"
    }
   ],
   "source": [
    "print(nonprimes, end=\" \")\n",
    "len(nonprimes)"
   ]
  },
  {
   "cell_type": "code",
   "execution_count": 75,
   "metadata": {
    "collapsed": false
   },
   "outputs": [
    {
     "name": "stdout",
     "output_type": "stream",
     "text": [
      "[2, 3, 5, 7, 11, 13, 17, 19, 23, 29, 31, 37, 41, 43, 47]\n"
     ]
    }
   ],
   "source": [
    "#to find list of prime numbers between 2 and 50 using list comprehensions\n",
    "\n",
    "primes = [x for x in range(2,50) if x not in nonprimes]\n",
    "print(primes)"
   ]
  },
  {
   "cell_type": "code",
   "execution_count": 72,
   "metadata": {
    "collapsed": false
   },
   "outputs": [
    {
     "name": "stdout",
     "output_type": "stream",
     "text": [
      "[4, 6, 8, 10, 12, 14, 16, 18, 20, 22, 24, 26, 28, 30, 32, 34, 36, 38, 40, 42, 44, 46, 48, 6, 9, 12, 15, 18, 21, 24, 27, 30, 33, 36, 39, 42, 45, 48, 8, 12, 16, 20, 24, 28, 32, 36, 40, 44, 48, 10, 15, 20, 25, 30, 35, 40, 45, 12, 18, 24, 30, 36, 42, 48, 14, 21, 28, 35, 42, 49] "
     ]
    },
    {
     "data": {
      "text/plain": [
       "70"
      ]
     },
     "execution_count": 72,
     "metadata": {},
     "output_type": "execute_result"
    }
   ],
   "source": [
    "#nonprimes is a list containing duplicate values\n",
    "nonprimes = [j for i in range(2,8) for j in range(i*2,50,i)]\n",
    "print(nonprimes, end=\" \")\n",
    "len(nonprimes)"
   ]
  },
  {
   "cell_type": "code",
   "execution_count": 76,
   "metadata": {
    "collapsed": false
   },
   "outputs": [
    {
     "data": {
      "text/plain": [
       "[[1, 4, 7], [2, 5, 8], [3, 6, 9]]"
      ]
     },
     "execution_count": 76,
     "metadata": {},
     "output_type": "execute_result"
    }
   ],
   "source": [
    "# to find a transpose of a matrix using list comprehenstions\n",
    "\n",
    "mat = [ [1,2,3],\n",
    "        [4,5,6],\n",
    "        [7,8,9]\n",
    "      ]\n",
    "[[row[i] for row in mat] for i in range(3)]"
   ]
  },
  {
   "cell_type": "code",
   "execution_count": 48,
   "metadata": {
    "collapsed": false
   },
   "outputs": [
    {
     "data": {
      "text/plain": [
       "[[1, 0, 0], [0, 1, 0], [0, 0, 1]]"
      ]
     },
     "execution_count": 48,
     "metadata": {},
     "output_type": "execute_result"
    }
   ],
   "source": [
    "[ [ 1 if item_idx == row_idx else 0 for item_idx in range(0, 3) ] for row_idx in range(0, 3) ]"
   ]
  },
  {
   "cell_type": "code",
   "execution_count": 55,
   "metadata": {
    "collapsed": false
   },
   "outputs": [
    {
     "data": {
      "text/plain": [
       "[[1, 5, 9], [2, 6, 10], [3, 7, 11], [4, 8, 12]]"
      ]
     },
     "execution_count": 55,
     "metadata": {},
     "output_type": "execute_result"
    }
   ],
   "source": [
    "matrix = [[1,2,3,4],\n",
    "          [5,6,7,8],\n",
    "          [9,10,11,12]\n",
    "         ]\n",
    "transposed = []\n",
    "for i in range(4):\n",
    "    transposed.append([row[i] for row in matrix])\n",
    "transposed"
   ]
  },
  {
   "cell_type": "code",
   "execution_count": 56,
   "metadata": {
    "collapsed": false
   },
   "outputs": [
    {
     "data": {
      "text/plain": [
       "[[1, 2, 3, 4], [5, 6, 7, 8], [9, 10, 11, 12]]"
      ]
     },
     "execution_count": 56,
     "metadata": {},
     "output_type": "execute_result"
    }
   ],
   "source": [
    "matrix"
   ]
  },
  {
   "cell_type": "code",
   "execution_count": 80,
   "metadata": {
    "collapsed": false
   },
   "outputs": [
    {
     "data": {
      "text/plain": [
       "'Yr mthr hs  hmstr'"
      ]
     },
     "execution_count": 80,
     "metadata": {},
     "output_type": "execute_result"
    }
   ],
   "source": [
    "# using list comprehensions to remove all the vowels in a sentence\n",
    "\n",
    "sentence = \"Your mother has a hamster\"\n",
    "vowels = 'aeiou'\n",
    "nonlist = []\n",
    "newsentence = \"\"\n",
    "for i in sentence:\n",
    "    if i not in vowels:\n",
    "        nonlist.append(i)\n",
    "newsentence =  ''.join(nonlist)\n",
    "newsentence"
   ]
  },
  {
   "cell_type": "code",
   "execution_count": 82,
   "metadata": {
    "collapsed": false
   },
   "outputs": [
    {
     "data": {
      "text/plain": [
       "'Yr mthr hs  hmstr'"
      ]
     },
     "execution_count": 82,
     "metadata": {},
     "output_type": "execute_result"
    }
   ],
   "source": [
    "#now the program above using list comprehension\n",
    "vowels = 'aeiou'\n",
    "nonvowels = ''.join([l for l in sentence if l not in vowels])\n",
    "nonvowels"
   ]
  },
  {
   "cell_type": "code",
   "execution_count": 83,
   "metadata": {
    "collapsed": false
   },
   "outputs": [
    {
     "data": {
      "text/plain": [
       "'Yr mthr hs  hmstr'"
      ]
     },
     "execution_count": 83,
     "metadata": {},
     "output_type": "execute_result"
    }
   ],
   "source": [
    "# the same problem above using a generator comprehension - which is better use of memory\n",
    "vowels = 'aeiou'\n",
    "nonvowels = ''.join(l for l in sentence if l not in vowels)\n",
    "nonvowels"
   ]
  },
  {
   "cell_type": "code",
   "execution_count": 104,
   "metadata": {
    "collapsed": false
   },
   "outputs": [
    {
     "data": {
      "text/plain": [
       "[(1, 1), (1, 2), (1, 3), (2, 1), (2, 2), (2, 3), (3, 1), (3, 2), (3, 3)]"
      ]
     },
     "execution_count": 104,
     "metadata": {},
     "output_type": "execute_result"
    }
   ],
   "source": [
    "#15 Write list comprehensions for following output\n",
    "\"\"\"\n",
    "a.['P', 'y', 't', 'h', 'o', 'n']\n",
    "b.['x', 'xx', 'xxx', 'xxxx', 'y', 'yy', 'yyy', 'yyyy', 'z', 'zz', 'zzz', 'zzzz'] \n",
    "c.['x', 'y', 'z', 'xx', 'yy', 'zz', 'xx', 'yy', 'zz', 'xxxx', 'yyyy', 'zzzz']\n",
    "d.[[2], [3], [4], [3], [4], [5], [4], [5], [6]]\n",
    "e.[[2, 3, 4, 5], [3, 4, 5, 6], [4, 5, 6, 7], [5, 6, 7, 8]]\n",
    "f.[(1, 1), (2, 1), (3, 1), (1, 2), (2, 2), (3, 2), (1, 3), (2, 3), (3, 3)] \"\"\"\n",
    "\n",
    "#15.a\n",
    "[x for x in 'python']\n",
    "#15.b\n",
    "[i*j for i in 'xyz' for j in range(1,5) ]\n",
    "#15.c\n",
    "[i*j*k for i in range(1,3) for j in range(1,3) for k in (['x','y','z']) ]\n",
    "#15.d\n",
    "[[x+y] for x in range(1,4) for y in range(1,4)]\n",
    "#15.e\n",
    "[[x+y for x in range(1,5)] for y in range(1,5)]\n",
    "#15.f\n",
    "[(x,y) for x in range(1,4) for y in range (1,4)]"
   ]
  },
  {
   "cell_type": "code",
   "execution_count": 107,
   "metadata": {
    "collapsed": false
   },
   "outputs": [
    {
     "data": {
      "text/plain": [
       "{1: 1, 2: 8, 3: 27, 4: 64, 5: 125, 6: 216, 7: 343, 8: 512, 9: 729}"
      ]
     },
     "execution_count": 107,
     "metadata": {},
     "output_type": "execute_result"
    }
   ],
   "source": [
    "#16 Dictionary comprehensions\n",
    "#16.a\n",
    "{i:i**3 for i in range(1,10)}"
   ]
  },
  {
   "cell_type": "code",
   "execution_count": 123,
   "metadata": {
    "collapsed": false
   },
   "outputs": [
    {
     "data": {
      "text/plain": [
       "{'a': 'a', 'b': 'bb', 'c': 'ccc', 'd': 'dddd', 'e': 'eeeee', 'f': 'ffffff'}"
      ]
     },
     "execution_count": 123,
     "metadata": {},
     "output_type": "execute_result"
    }
   ],
   "source": [
    "#16.b\n",
    "s ='abcdef'\n",
    "{x: x*(s.index(x)+1) for x in s}"
   ]
  },
  {
   "cell_type": "code",
   "execution_count": 127,
   "metadata": {
    "collapsed": false
   },
   "outputs": [
    {
     "data": {
      "text/plain": [
       "(0, 2)"
      ]
     },
     "execution_count": 127,
     "metadata": {},
     "output_type": "execute_result"
    }
   ],
   "source": [
    "s.index('a'), s.index('c')"
   ]
  },
  {
   "cell_type": "code",
   "execution_count": 139,
   "metadata": {
    "collapsed": true
   },
   "outputs": [],
   "source": [
    "#17. Write a function longestWord() that takes a list of words and returns the longest one.\n",
    "# longestWord(['Apple','Apricot','Asparagus','Avocado'])\n",
    "def longestWord(a):\n",
    "    longLen =0\n",
    "    word = ''\n",
    "    wordLen = 0\n",
    "    for i in a:\n",
    "        wordLen = len(i)\n",
    "        if wordLen > longLen:\n",
    "            longLen = wordLen\n",
    "            word = i\n",
    "    return (word)\n",
    "\n",
    "def smallestWord(a):\n",
    "    word = a[0]\n",
    "    wordLen = smallwordLen = len(a[0])\n",
    "    for i in a:\n",
    "        wordLen = len(i)\n",
    "        if wordLen < smallwordLen:\n",
    "            smallwordLen = wordLen\n",
    "            word = i\n",
    "    return(word)"
   ]
  },
  {
   "cell_type": "code",
   "execution_count": 141,
   "metadata": {
    "collapsed": false
   },
   "outputs": [
    {
     "data": {
      "text/plain": [
       "'Asparagus'"
      ]
     },
     "execution_count": 141,
     "metadata": {},
     "output_type": "execute_result"
    }
   ],
   "source": [
    "longestWord(['Apple','Apricot','Asparagus','Avocado'])"
   ]
  },
  {
   "cell_type": "code",
   "execution_count": 144,
   "metadata": {
    "collapsed": false
   },
   "outputs": [
    {
     "data": {
      "text/plain": [
       "'kiwi'"
      ]
     },
     "execution_count": 144,
     "metadata": {},
     "output_type": "execute_result"
    }
   ],
   "source": [
    "smallestWord(['Apple','Apricot','kiwi','Asparagus','Avocado'])"
   ]
  },
  {
   "cell_type": "code",
   "execution_count": 16,
   "metadata": {
    "collapsed": false
   },
   "outputs": [],
   "source": [
    "#18. Palindrome\n",
    "def palindrome(word):\n",
    "    import re\n",
    "    a = re.sub('\\W+','',word)\n",
    "    a = a.lower()\n",
    "    #print(\"Word is \",a , ' and its length is ',len(a))\n",
    "    #a = word\n",
    "    #trim word and remove all whitespaces,question marks, exclamation...just need to keep letters \n",
    "    mid = len(a)//2\n",
    "    \n",
    "    if len(a)%2==0:\n",
    "        #if length of a is even\n",
    "        if a[:mid]==a[mid:][::-1]:\n",
    "            print('{}: is a Palindrome'.format(word))\n",
    "        else:\n",
    "            print('{}: is NOT a palindrome'.format(word))\n",
    "    else:\n",
    "        #if length of a is odd\n",
    "        if a[:mid]==a[mid+1:][::-1]:\n",
    "            print('{}: is a Palindrome'.format(word))\n",
    "        else:\n",
    "            print('{}: is NOT a palindrome'.format(word))\n",
    "   "
   ]
  },
  {
   "cell_type": "code",
   "execution_count": 17,
   "metadata": {
    "collapsed": false
   },
   "outputs": [
    {
     "name": "stdout",
     "output_type": "stream",
     "text": [
      "A man, a plan, a canal, Panama!: is a Palindrome\n"
     ]
    }
   ],
   "source": [
    "palindrome(\"A man, a plan, a canal, Panama!\")"
   ]
  },
  {
   "cell_type": "code",
   "execution_count": 13,
   "metadata": {
    "collapsed": false
   },
   "outputs": [
    {
     "name": "stdout",
     "output_type": "stream",
     "text": [
      "Word is  malayalam  and its length is  9\n",
      "malayalam: is a Palindrome\n"
     ]
    }
   ],
   "source": [
    "palindrome('malayalam')"
   ]
  },
  {
   "cell_type": "code",
   "execution_count": 72,
   "metadata": {
    "collapsed": false
   },
   "outputs": [],
   "source": [
    "#19.A pangram is a sentence that contains all the letters of the English alphabetat least once. \n",
    "#example: \"The quick brown fox jumps over the lazy dog\".\n",
    "#isPangram\n",
    "\n",
    "def isPangram(sentence):\n",
    "    temp = []\n",
    "    alphabets = {'a':0,'b':0,'c':0,'d':0,'e':0,'f':0,'g':0,'h':0, 'i':0,'j':0,'k':0,'l':0,'m':0,'n':0,'o':0,'p':0,\n",
    "                'q':0,'r':0,'s':0,'t':0,'u':0,'v':0,'w':0,'x':0,'y':0,'z':0}\n",
    "    pureSentence = sentence.lower()\n",
    "    #do a regular expression to remove all the other characters other than alphabets\n",
    "    #assuming it is just alphabets in lower case\n",
    "    \n",
    "    for i in pureSentence:\n",
    "        for j in alphabets:\n",
    "            if (i == j):\n",
    "                alphabets[j] += 1\n",
    "    print(alphabets)\n",
    "\n",
    "    temp = list(alphabets.values())\n",
    "    x= True\n",
    "    print(temp)\n",
    "    i =0\n",
    "    print(len(temp))\n",
    "    \n",
    "    while(i<len(temp)):\n",
    "        if temp[i] == 0:\n",
    "            x = False\n",
    "            print(\"Is NOT a Pangram\")\n",
    "            break\n",
    "        i +=1 \n",
    "\n",
    "    return(x)\n",
    "                \n",
    "    "
   ]
  },
  {
   "cell_type": "code",
   "execution_count": 79,
   "metadata": {
    "collapsed": false
   },
   "outputs": [
    {
     "name": "stdout",
     "output_type": "stream",
     "text": [
      "{'d': 1, 's': 1, 'u': 2, 'e': 3, 'o': 4, 'a': 1, 't': 2, 'j': 1, 'z': 1, 'y': 1, 'p': 1, 'c': 1, 'x': 1, 'l': 1, 'g': 1, 'i': 1, 'w': 1, 'n': 1, 'k': 1, 'b': 1, 'v': 1, 'h': 2, 'q': 1, 'r': 2, 'm': 1, 'f': 1}\n",
      "[1, 1, 2, 3, 4, 1, 2, 1, 1, 1, 1, 1, 1, 1, 1, 1, 1, 1, 1, 1, 1, 2, 1, 2, 1, 1]\n",
      "26\n"
     ]
    },
    {
     "data": {
      "text/plain": [
       "True"
      ]
     },
     "execution_count": 79,
     "metadata": {},
     "output_type": "execute_result"
    }
   ],
   "source": [
    "isPangram( \"The quick brown fox jumps over the lazy dog\")\n"
   ]
  },
  {
   "cell_type": "code",
   "execution_count": 82,
   "metadata": {
    "collapsed": false
   },
   "outputs": [
    {
     "name": "stdout",
     "output_type": "stream",
     "text": [
      "{'d': 1, 's': 1, 'u': 1, 'e': 1, 'o': 1, 'a': 0, 't': 1, 'j': 1, 'z': 1, 'y': 1, 'p': 1, 'c': 1, 'x': 1, 'l': 1, 'g': 1, 'i': 1, 'w': 1, 'n': 1, 'k': 1, 'b': 1, 'v': 1, 'h': 1, 'q': 1, 'r': 1, 'm': 1, 'f': 1}\n",
      "[1, 1, 1, 1, 1, 0, 1, 1, 1, 1, 1, 1, 1, 1, 1, 1, 1, 1, 1, 1, 1, 1, 1, 1, 1, 1]\n",
      "26\n",
      "Is NOT a Pangram\n"
     ]
    },
    {
     "data": {
      "text/plain": [
       "False"
      ]
     },
     "execution_count": 82,
     "metadata": {},
     "output_type": "execute_result"
    }
   ],
   "source": [
    "isPangram('bcdefghijklmnopqrstuvwxyz')"
   ]
  },
  {
   "cell_type": "code",
   "execution_count": 135,
   "metadata": {
    "collapsed": false
   },
   "outputs": [],
   "source": [
    "#20. Write a function charFreq() that takes a string and creates a frequency listing of the characters contained in it using a dictionary object.\n",
    "#charFreq(\"abcabcxyzxyzkkkmmmnnnsssqqqqkkaabbcc\")\n",
    "\n",
    "\n",
    "def charFreq(string):\n",
    "    #alphabets = {'a':0,'b':0,'c':0,'d':0,'e':0,'f':0,'g':0,'h':0, 'i':0,'j':0,'k':0,'l':0,'m':0,'n':0,'o':0,'p':0,\n",
    "     #         'q':0,'r':0,'s':0,'t':0,'u':0,'v':0,'w':0,'x':0,'y':0,'z':0} \n",
    "    alpha = \"abcdefghijklmnopqrstuvwxyz\"\n",
    "    alphabets = {c:0 for c in alpha}\n",
    "            \n",
    "    for i in string:\n",
    "        if i == ' ':\n",
    "            continue \n",
    "        alphabets[i] +=1\n",
    "    \n",
    "    alp = sorted([x for x in alphabets if alphabets[x]!=0])\n",
    "    print(alp)\n",
    "    temp={}\n",
    "    for i in alp:\n",
    "        temp[i] = alphabets[i]\n",
    "    print(temp)\n"
   ]
  },
  {
   "cell_type": "code",
   "execution_count": 137,
   "metadata": {
    "collapsed": false
   },
   "outputs": [
    {
     "name": "stdout",
     "output_type": "stream",
     "text": [
      "['a', 'b', 'c', 'k', 'm', 'n', 'q', 's', 'x', 'y', 'z']\n",
      "{'a': 4, 'n': 3, 'k': 5, 'b': 4, 's': 1, 'y': 2, 'q': 4, 'z': 2, 'c': 4, 'm': 3, 'x': 2}\n"
     ]
    }
   ],
   "source": [
    "charFreq(\"abcabcxyzxyzkkksmmmnnnqqqqkkaabbcc\")"
   ]
  },
  {
   "cell_type": "code",
   "execution_count": 141,
   "metadata": {
    "collapsed": false
   },
   "outputs": [
    {
     "name": "stdout",
     "output_type": "stream",
     "text": [
      "['a', 'f', 'i', 'l', 'm', 'n', 'o', 's', 'x', 'y', 'z']\n",
      "{'a': 4, 'l': 2, 's': 1, 'z': 1, 'n': 1, 'y': 1, 'o': 1, 'i': 2, 'x': 1, 'm': 1, 'f': 1}\n"
     ]
    }
   ],
   "source": [
    "charFreq(\"fox is a lazy animal\")"
   ]
  },
  {
   "cell_type": "code",
   "execution_count": 172,
   "metadata": {
    "collapsed": false
   },
   "outputs": [
    {
     "name": "stdout",
     "output_type": "stream",
     "text": [
      "{1: 4038, 2: 1062, 3: 7376, 4: 6098, 5: 5028}\n",
      "Maximum generated is :  3 ----> 7376\n",
      "{1: 4038, 3: 7376, 4: 6098, 5: 5028}\n"
     ]
    }
   ],
   "source": [
    "#21. Using random module, generate 10,000 numbers between 1 and 5. \n",
    "#Find the number for which largest numbers generated. \n",
    "#Also create a dictionary with key-values where value > 2000, using dictionary comprehensions.\n",
    "\n",
    "import random\n",
    "a = {}\n",
    "d = {}\n",
    "for i in range(1,6):\n",
    "    a[i] = random.randint(1,10000)\n",
    "print(a)\n",
    "k = list(a.keys())\n",
    "v = list(a.values())\n",
    "x = k[v.index(max(v))]\n",
    "print(\"Maximum generated is : \", x, \"---->\",a[x])\n",
    "d = {x:y for x,y in a.items() if y >2000}\n",
    "print(d)"
   ]
  },
  {
   "cell_type": "code",
   "execution_count": null,
   "metadata": {
    "collapsed": true
   },
   "outputs": [],
   "source": []
  },
  {
   "cell_type": "code",
   "execution_count": null,
   "metadata": {
    "collapsed": true
   },
   "outputs": [],
   "source": []
  }
 ],
 "metadata": {
  "anaconda-cloud": {},
  "kernelspec": {
   "display_name": "Python [default]",
   "language": "python",
   "name": "python3"
  },
  "language_info": {
   "codemirror_mode": {
    "name": "ipython",
    "version": 3
   },
   "file_extension": ".py",
   "mimetype": "text/x-python",
   "name": "python",
   "nbconvert_exporter": "python",
   "pygments_lexer": "ipython3",
   "version": "3.5.2"
  }
 },
 "nbformat": 4,
 "nbformat_minor": 1
}
